{
 "cells": [
  {
   "cell_type": "code",
   "execution_count": 22,
   "metadata": {},
   "outputs": [],
   "source": [
    "import utils\n",
    "import skimage\n",
    "import skimage.morphology\n",
    "import numpy as np"
   ]
  },
  {
   "cell_type": "code",
   "execution_count": 23,
   "metadata": {},
   "outputs": [],
   "source": [
    "def remove_noise(im: np.ndarray) -> np.ndarray:\n",
    "    \"\"\"\n",
    "        A function that removes noise in the input image.\n",
    "        args:\n",
    "            im: np.ndarray of shape (H, W) with boolean values (dtype=bool)\n",
    "        return:\n",
    "            (np.ndarray) of shape (H, W). dtype=bool\n",
    "    \"\"\"\n",
    "    \n",
    "    structuring_element = skimage.morphology.disk(7)  # You can adjust the radius as needed\n",
    "\n",
    "    # Perform opening to remove small foreground noise\n",
    "    im = skimage.morphology.binary_opening(im, structuring_element)\n",
    "\n",
    "    # Perform closing to fill small holes in the foreground\n",
    "    im = skimage.morphology.binary_closing(im, structuring_element)\n",
    "\n",
    "    return im\n",
    "    "
   ]
  },
  {
   "cell_type": "code",
   "execution_count": 24,
   "metadata": {},
   "outputs": [
    {
     "name": "stdout",
     "output_type": "stream",
     "text": [
      "Reading image: images\\noisy.png\n",
      "Saving image to: image_processed\\noisy-filtered.png\n"
     ]
    }
   ],
   "source": [
    "if __name__ == \"__main__\":\n",
    "    # DO NOT CHANGE\n",
    "    im = utils.read_image(\"noisy.png\")\n",
    "\n",
    "    binary_image = (im != 0)\n",
    "    noise_free_image = remove_noise(binary_image)\n",
    "\n",
    "    assert im.shape == noise_free_image.shape, \"Expected image shape ({}) to be same as resulting image shape ({})\".format(\n",
    "            im.shape, noise_free_image.shape)\n",
    "    assert noise_free_image.dtype == bool, \"Expected resulting image dtype to be bool. Was: {}\".format(\n",
    "            noise_free_image.dtype)\n",
    "\n",
    "    noise_free_image = utils.to_uint8(noise_free_image)\n",
    "    utils.save_im(\"noisy-filtered.png\", noise_free_image)\n"
   ]
  }
 ],
 "metadata": {
  "kernelspec": {
   "display_name": "Python 3",
   "language": "python",
   "name": "python3"
  },
  "language_info": {
   "codemirror_mode": {
    "name": "ipython",
    "version": 3
   },
   "file_extension": ".py",
   "mimetype": "text/x-python",
   "name": "python",
   "nbconvert_exporter": "python",
   "pygments_lexer": "ipython3",
   "version": "3.12.6"
  }
 },
 "nbformat": 4,
 "nbformat_minor": 2
}
