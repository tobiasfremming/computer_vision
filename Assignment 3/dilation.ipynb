{
 "cells": [
  {
   "cell_type": "code",
   "execution_count": null,
   "metadata": {},
   "outputs": [
    {
     "name": "stdout",
     "output_type": "stream",
     "text": [
      "[[1 1 0 1 1 1 1]\n",
      " [1 1 0 1 1 1 1]\n",
      " [1 1 0 1 1 1 1]\n",
      " [0 1 1 1 1 1 1]\n",
      " [0 1 1 1 1 1 1]\n",
      " [1 0 1 1 1 1 1]\n",
      " [1 0 0 1 1 1 1]]\n"
     ]
    }
   ],
   "source": [
    "from scipy.ndimage import binary_dilation\n",
    "\n",
    "A =  [ [0, 1, 0, 1, 1, 0, 1, ],\n",
    "[1, 1, 0, 0, 0, 1, 1, ],\n",
    "[0, 1, 0, 1, 0, 1, 1, ],\n",
    "[0, 1, 0, 1, 1, 1, 1, ],\n",
    "[0, 0, 1, 0, 1, 0, 1, ],\n",
    "[0, 0, 0, 0, 1, 1, 1, ],\n",
    "[1, 0, 0, 1, 0, 0, 0, ] ] \n",
    "\n",
    "\n",
    "B = [[1],[1],[1]]\n",
    "\n",
    "dilated_a = []\n",
    "\n",
    "\n",
    "dilated_a = binary_dilation(A, structure=B)\n",
    "\n",
    "# Convert the result to integers\n",
    "dilated_a = dilated_a.astype(int)\n",
    "\n",
    "print(dilated_a)\n",
    "\n",
    "    \n"
   ]
  }
 ],
 "metadata": {
  "kernelspec": {
   "display_name": "Python 3",
   "language": "python",
   "name": "python3"
  },
  "language_info": {
   "codemirror_mode": {
    "name": "ipython",
    "version": 3
   },
   "file_extension": ".py",
   "mimetype": "text/x-python",
   "name": "python",
   "nbconvert_exporter": "python",
   "pygments_lexer": "ipython3",
   "version": "3.12.6"
  }
 },
 "nbformat": 4,
 "nbformat_minor": 2
}
