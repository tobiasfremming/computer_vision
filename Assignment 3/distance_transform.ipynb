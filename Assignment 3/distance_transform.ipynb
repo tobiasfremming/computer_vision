{
 "cells": [
  {
   "cell_type": "code",
   "execution_count": 8,
   "metadata": {},
   "outputs": [],
   "source": [
    "import utils\n",
    "import skimage\n",
    "import skimage.morphology\n",
    "import numpy as np\n",
    "import pathlib\n",
    "from scipy.ndimage import binary_erosion\n"
   ]
  },
  {
   "cell_type": "code",
   "execution_count": null,
   "metadata": {},
   "outputs": [],
   "source": [
    "def distance_transform(im: np.ndarray) -> np.ndarray:\n",
    "    \"\"\"\n",
    "        A function that computes the distance to the closest boundary pixel.\n",
    "\n",
    "        args:\n",
    "            im: np.ndarray of shape (H, W) with boolean values (dtype=np.bool)\n",
    "        return:\n",
    "            (np.ndarray) of shape (H, W). dtype=np.int32\n",
    "    \"\"\"\n",
    "    assert im.dtype == bool\n",
    "    structuring_element = np.array([\n",
    "        [1, 1, 1],\n",
    "        [1, 1, 1],\n",
    "        [1, 1, 1]\n",
    "    ], dtype=bool)\n",
    "    \n",
    "    result = im.astype(np.int32)\n",
    "    distance = np.zeros_like(im, dtype=np.int32)\n",
    "    \n",
    "    eroded = im.copy()\n",
    "    \n",
    "    while eroded.any():\n",
    "        distance += eroded\n",
    "        eroded = binary_erosion(eroded, structure=structuring_element)\n",
    "        \n",
    "\n",
    "    return distance\n",
    "        "
   ]
  },
  {
   "cell_type": "code",
   "execution_count": 10,
   "metadata": {},
   "outputs": [
    {
     "name": "stdout",
     "output_type": "stream",
     "text": [
      "Reading image: image_processed\\noisy-filtered.png\n",
      "Saving image to: image_processed\\noisy-distance.png\n"
     ]
    },
    {
     "name": "stderr",
     "output_type": "stream",
     "text": [
      "c:\\Users\\tobia\\Documents\\ImageProcessing\\TDT4195-StarterCode-2024\\Assignment 3\\utils.py:40: UserWarning: Image min/max is outside the range [0.0, 1.0]. Squashing the image to this range. (Can be safely ignored)\n",
      "  warnings.warn(\"Image min/max is outside the range [0.0, 1.0]. Squashing the image to this range. (Can be safely ignored)\")\n"
     ]
    }
   ],
   "source": [
    "if __name__ == \"__main__\":\n",
    "    im = utils.read_image(\"noisy-filtered.png\", image_folder=pathlib.Path(\"image_processed\")) # <-- This image is created in noise_filtering\n",
    "    binary_image = (im != 0)\n",
    "    distance = distance_transform(binary_image)\n",
    "\n",
    "    assert im.shape == distance.shape, \"Expected image shape ({}) to be same as resulting image shape ({})\".format(\n",
    "            im.shape, distance.shape)\n",
    "    assert distance.dtype == np.int32, \"Expected resulting image dtype to be np.int32. Was: {}\".format(\n",
    "            distance.dtype)\n",
    "\n",
    "    distance = utils.to_uint8(distance)\n",
    "    utils.save_im(\"noisy-distance.png\", distance)\n"
   ]
  }
 ],
 "metadata": {
  "kernelspec": {
   "display_name": "Python 3",
   "language": "python",
   "name": "python3"
  },
  "language_info": {
   "codemirror_mode": {
    "name": "ipython",
    "version": 3
   },
   "file_extension": ".py",
   "mimetype": "text/x-python",
   "name": "python",
   "nbconvert_exporter": "python",
   "pygments_lexer": "ipython3",
   "version": "3.12.6"
  }
 },
 "nbformat": 4,
 "nbformat_minor": 2
}
