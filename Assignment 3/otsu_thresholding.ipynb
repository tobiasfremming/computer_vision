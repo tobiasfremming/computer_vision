{
 "cells": [
  {
   "cell_type": "code",
   "execution_count": 1,
   "metadata": {},
   "outputs": [],
   "source": [
    "import numpy as np\n",
    "import skimage\n",
    "import utils\n",
    "import pathlib"
   ]
  },
  {
   "cell_type": "code",
   "execution_count": null,
   "metadata": {},
   "outputs": [],
   "source": [
    "def otsu_thresholding(im: np.ndarray) -> int:\n",
    "    \"\"\"\n",
    "        Otsu's thresholding algorithm that segments an image into 1 or 0 (True or False)\n",
    "        The function takes in a grayscale image and outputs a threshold value\n",
    "\n",
    "        args:\n",
    "            im: np.ndarray of shape (H, W) in the range [0, 255] (dtype=np.uint8)\n",
    "        return:\n",
    "            (int) the computed thresholding value\n",
    "    \"\"\"\n",
    "    assert im.dtype == np.uint8\n",
    "    \n",
    "    # Compute normalized histogram\n",
    "    hist, bins = np.histogram(im.flatten(), bins=256, range=(0, 256))\n",
    "    hist = hist / hist.sum()\n",
    "    \n",
    "    # Compute cumulative sums\n",
    "    cumulative_sum = np.cumsum(hist)\n",
    "    cumulative_mean = np.cumsum(hist * np.arange(256))\n",
    "    global_mean = cumulative_mean[-1]    \n",
    "    \n",
    "    max_variance = 0\n",
    "    optimal_threshold = 0\n",
    "    \n",
    "    \n",
    "    # Iterate over all possible thresholds (0–255)\n",
    "    for threshold in range(256):\n",
    "        \n",
    "        P1 = cumulative_sum[threshold]  # Probability background\n",
    "        P2 = 1 - P1 # Prob background\n",
    "        \n",
    "        if P1 == 0 or P2 == 0:\n",
    "            continue\n",
    "        \n",
    "        # means of intensity of the background and foreground\n",
    "        mean1 = cumulative_mean[threshold] / P1  \n",
    "        mean2 = (global_mean - cumulative_mean[threshold]) / P2  \n",
    "        \n",
    "        # Between-class variance\n",
    "        between_class_variance = P1 * P2 * (mean1 - mean2) ** 2\n",
    "        \n",
    "        # Update the optimal threshold if the between-class variance is maximized\n",
    "        if between_class_variance > max_variance:\n",
    "            max_variance = between_class_variance\n",
    "            optimal_threshold = threshold\n",
    "    \n",
    "    return optimal_threshold\n",
    "    \n",
    "    "
   ]
  },
  {
   "cell_type": "code",
   "execution_count": 4,
   "metadata": {},
   "outputs": [
    {
     "name": "stdout",
     "output_type": "stream",
     "text": [
      "Reading image: images\\thumbprint.png\n",
      "Found optimal threshold: 153\n",
      "Saving image to: image_processed\\thumbprint-segmented.png\n",
      "Reading image: images\\rice-shaded.png\n",
      "Found optimal threshold: 134\n",
      "Saving image to: image_processed\\rice-shaded-segmented.png\n"
     ]
    }
   ],
   "source": [
    "if __name__ == \"__main__\":\n",
    "    # DO NOT CHANGE\n",
    "    impaths_to_segment = [\n",
    "        pathlib.Path(\"thumbprint.png\"),\n",
    "        pathlib.Path(\"rice-shaded.png\")\n",
    "    ]\n",
    "    for impath in impaths_to_segment:\n",
    "        im = utils.read_image(impath)\n",
    "        threshold = otsu_thresholding(im)\n",
    "        print(\"Found optimal threshold:\", threshold)\n",
    "\n",
    "        # Segment the image by threshold\n",
    "        segmented_image = (im >= threshold)\n",
    "        assert im.shape == segmented_image.shape, \"Expected image shape ({}) to be same as thresholded image shape ({})\".format(\n",
    "                im.shape, segmented_image.shape)\n",
    "        assert segmented_image.dtype == bool, \"Expected thresholded image dtype to be bool. Was: {}\".format(\n",
    "                segmented_image.dtype)\n",
    "\n",
    "        segmented_image = utils.to_uint8(segmented_image)\n",
    "\n",
    "        save_path = \"{}-segmented.png\".format(impath.stem)\n",
    "        utils.save_im(save_path, segmented_image)\n",
    "\n",
    "        \n"
   ]
  }
 ],
 "metadata": {
  "kernelspec": {
   "display_name": "Python 3",
   "language": "python",
   "name": "python3"
  },
  "language_info": {
   "codemirror_mode": {
    "name": "ipython",
    "version": 3
   },
   "file_extension": ".py",
   "mimetype": "text/x-python",
   "name": "python",
   "nbconvert_exporter": "python",
   "pygments_lexer": "ipython3",
   "version": "3.12.6"
  }
 },
 "nbformat": 4,
 "nbformat_minor": 2
}
