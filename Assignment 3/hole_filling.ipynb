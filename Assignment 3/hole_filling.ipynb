{
 "cells": [
  {
   "cell_type": "code",
   "execution_count": 17,
   "metadata": {},
   "outputs": [],
   "source": [
    "import utils\n",
    "import skimage\n",
    "import skimage.morphology\n",
    "import numpy as np\n",
    "import matplotlib.pyplot as plt\n",
    "from skimage import io\n",
    "from scipy.ndimage import binary_dilation"
   ]
  },
  {
   "cell_type": "code",
   "execution_count": 18,
   "metadata": {},
   "outputs": [],
   "source": [
    "def fill_holes(im: np.ndarray, starting_points: list, num_iterations: int) -> np.ndarray:\n",
    "    \"\"\"\n",
    "        A function that takes a binary image (im),  and a set of points \n",
    "        indicating position of holes, and fills the holes.\n",
    "\n",
    "        args:\n",
    "            im: np.ndarray of shape (H, W) with boolean values (dtype=np.bool)\n",
    "            starting_points: list of list containing starting points (row, col). Ex:\n",
    "                [[row1, col1], [row2, col2], ...]\n",
    "            num_iterations: integer defining the number of iterations to apply the \n",
    "                            hole filling algorithm\n",
    "        return:\n",
    "            (np.ndarray) of shape (H, W). dtype=np.bool\n",
    "    \"\"\"\n",
    "  \n",
    "    structuring_element = np.array([\n",
    "        [1, 1, 1],\n",
    "        [1, 1, 1],\n",
    "        [1, 1, 1]\n",
    "    ], dtype=bool)\n",
    "    \n",
    "    im_complement = np.logical_not(im) \n",
    "    \n",
    "    X_0 = np.zeros(im.shape, dtype=bool)\n",
    "    for row, col in starting_points:\n",
    "        X_0[row, col] = True\n",
    "        \n",
    "    for i in range(1, num_iterations):\n",
    "        X_0 = np.logical_and(binary_dilation(X_0, structure=structuring_element), im_complement)\n",
    "    \n",
    "    return np.logical_or(X_0, im)\n",
    "    \n",
    "    "
   ]
  },
  {
   "cell_type": "code",
   "execution_count": 19,
   "metadata": {},
   "outputs": [
    {
     "name": "stdout",
     "output_type": "stream",
     "text": [
      "Saving image to: image_processed\\cards-filled.png\n"
     ]
    }
   ],
   "source": [
    "if __name__ == \"__main__\":\n",
    "    im = io.imread('images/cards.png', as_gray=True)\n",
    "    binary_image = im != 0\n",
    "    starting_points = [ \n",
    "        # (row, column)\n",
    "        [50, 80],\n",
    "        [275, 80],\n",
    "        [50, 175],\n",
    "        [275, 175],\n",
    "        [50,390],\n",
    "        [275, 390],\n",
    "        [175,650]\n",
    "    ]\n",
    "    num_iterations = 50\n",
    "\n",
    "    result = fill_holes(binary_image, starting_points, num_iterations)\n",
    "\n",
    "    assert im.shape == result.shape, \"Expected image shape ({}) to be same as resulting image shape ({})\".format(\n",
    "            im.shape, result.shape)\n",
    "    assert result.dtype == bool, \"Expected resulting image dtype to be bool. Was: {}\".format(\n",
    "            result.dtype)\n",
    "\n",
    "    result = utils.to_uint8(result)\n",
    "    utils.save_im(\"cards-filled.png\", result)\n"
   ]
  }
 ],
 "metadata": {
  "kernelspec": {
   "display_name": "Python 3",
   "language": "python",
   "name": "python3"
  },
  "language_info": {
   "codemirror_mode": {
    "name": "ipython",
    "version": 3
   },
   "file_extension": ".py",
   "mimetype": "text/x-python",
   "name": "python",
   "nbconvert_exporter": "python",
   "pygments_lexer": "ipython3",
   "version": "3.12.6"
  }
 },
 "nbformat": 4,
 "nbformat_minor": 2
}
